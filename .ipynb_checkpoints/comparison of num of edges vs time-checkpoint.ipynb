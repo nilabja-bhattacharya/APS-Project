{
 "cells": [
  {
   "cell_type": "code",
   "execution_count": 79,
   "metadata": {},
   "outputs": [],
   "source": [
    "import os\n",
    "import plotly.plotly as py\n",
    "import plotly.graph_objs as go\n",
    "\n",
    "my_file=open('/home/neil/Documents/IIITH/sem1/APS/CS3000-Project/compare_dsu.txt','r')\n",
    "read_data = my_file.readlines()\n",
    "#print(read_data)\n",
    "my_file.close()\n",
    "list1 = []\n",
    "list2 = []\n",
    "for lines in read_data:\n",
    "    l = lines\n",
    "    x,y = l.split(' ')\n",
    "    list1.append(float(x))\n",
    "    list2.append(float(y))\n",
    "    #print(x)\n",
    "    #print(y)\n",
    "dsu = go.Scatter(\n",
    "    x=list1,\n",
    "    y=list2, \n",
    "    name='dsu'\n",
    ")\n",
    "my_file=open('/home/neil/Documents/IIITH/sem1/APS/CS3000-Project/compare_veb.txt','r')\n",
    "read_data = my_file.readlines()\n",
    "#print(read_data)\n",
    "my_file.close()\n",
    "list1 = []\n",
    "list2 = []\n",
    "for lines in read_data:\n",
    "    l = lines\n",
    "    x,y = l.split(' ')\n",
    "    list1.append(float(x))\n",
    "    list2.append(float(y))\n",
    "    #print(x)\n",
    "    #print(y)\n",
    "veb = go.Scatter(\n",
    "    x=list1,\n",
    "    y=list2,\n",
    "    name = 'veb'\n",
    ")\n",
    "my_file=open('/home/neil/Documents/IIITH/sem1/APS/CS3000-Project/compare_fib.txt','r')\n",
    "read_data = my_file.readlines()\n",
    "#print(read_data)\n",
    "my_file.close()\n",
    "list1 = []\n",
    "list2 = []\n",
    "for lines in read_data:\n",
    "    l = lines\n",
    "    x,y = l.split(' ')\n",
    "    list1.append(float(x))\n",
    "    list2.append(float(y))\n",
    "    #print(x)\n",
    "    #print(y)\n",
    "fib = go.Scatter(\n",
    "    x=list1,\n",
    "    y=list2,\n",
    "    name='fib'\n",
    ")"
   ]
  },
  {
   "cell_type": "code",
   "execution_count": 80,
   "metadata": {},
   "outputs": [
    {
     "data": {
      "text/html": [
       "<iframe id=\"igraph\" scrolling=\"no\" style=\"border:none;\" seamless=\"seamless\" src=\"https://plot.ly/~syn145912/16.embed\" height=\"525px\" width=\"100%\"></iframe>"
      ],
      "text/plain": [
       "<plotly.tools.PlotlyDisplay object>"
      ]
     },
     "execution_count": 80,
     "metadata": {},
     "output_type": "execute_result"
    }
   ],
   "source": [
    "data = [dsu, veb, fib]\n",
    "layout = go.Layout(\n",
    "    title='Plot of number of edges vs time when edges are inserted with edge weights in random order',\n",
    "    xaxis=dict(\n",
    "        title='Time in sec'\n",
    "    ),\n",
    "    yaxis=dict(\n",
    "        title='Edges'\n",
    "    )\n",
    ")\n",
    "fig = go.Figure(data=data, layout=layout)\n",
    "py.iplot(fig, filename='random_data')"
   ]
  },
  {
   "cell_type": "code",
   "execution_count": 81,
   "metadata": {},
   "outputs": [],
   "source": [
    "my_file=open('/home/neil/Documents/IIITH/sem1/APS/CS3000-Project/compare_dsu_sorted.txt','r')\n",
    "read_data = my_file.readlines()\n",
    "#print(read_data)\n",
    "my_file.close()\n",
    "list1 = []\n",
    "list2 = []\n",
    "for lines in read_data:\n",
    "    l = lines\n",
    "    x,y = l.split(' ')\n",
    "    list1.append(float(x))\n",
    "    list2.append(float(y))\n",
    "    #print(x)\n",
    "    #print(y)\n",
    "dsu = go.Scatter(\n",
    "    x=list1,\n",
    "    y=list2,\n",
    "    name='dsu'\n",
    ")\n",
    "my_file=open('/home/neil/Documents/IIITH/sem1/APS/CS3000-Project/compare_veb_sorted.txt','r')\n",
    "read_data = my_file.readlines()\n",
    "#print(read_data)\n",
    "my_file.close()\n",
    "list1 = []\n",
    "list2 = []\n",
    "for lines in read_data:\n",
    "    l = lines\n",
    "    x,y = l.split(' ')\n",
    "    list1.append(float(x))\n",
    "    list2.append(float(y))\n",
    "    #print(x)\n",
    "    #print(y)\n",
    "veb = go.Scatter(\n",
    "    x=list1,\n",
    "    y=list2,\n",
    "    name='veb'\n",
    ")\n",
    "my_file=open('/home/neil/Documents/IIITH/sem1/APS/CS3000-Project/compare_fib_sorted.txt','r')\n",
    "read_data = my_file.readlines()\n",
    "#print(read_data)\n",
    "my_file.close()\n",
    "list1 = []\n",
    "list2 = []\n",
    "for lines in read_data:\n",
    "    l = lines\n",
    "    x,y = l.split(' ')\n",
    "    list1.append(float(x))\n",
    "    list2.append(float(y))\n",
    "    #print(x)\n",
    "    #print(y)\n",
    "fib = go.Scatter(\n",
    "    x=list1,\n",
    "    y=list2,\n",
    "    name='fib'\n",
    ")"
   ]
  },
  {
   "cell_type": "code",
   "execution_count": 82,
   "metadata": {},
   "outputs": [
    {
     "data": {
      "text/html": [
       "<iframe id=\"igraph\" scrolling=\"no\" style=\"border:none;\" seamless=\"seamless\" src=\"https://plot.ly/~syn145912/18.embed\" height=\"525px\" width=\"100%\"></iframe>"
      ],
      "text/plain": [
       "<plotly.tools.PlotlyDisplay object>"
      ]
     },
     "execution_count": 82,
     "metadata": {},
     "output_type": "execute_result"
    }
   ],
   "source": [
    "data = [dsu, veb, fib]\n",
    "layout = go.Layout(\n",
    "    title='Plot of number of edges vs time when edges are inserted with edge weights in sorted order',\n",
    "    xaxis=dict(\n",
    "        title='Time in sec'\n",
    "    ),\n",
    "    yaxis=dict(\n",
    "        title='Edges'\n",
    "    )\n",
    ")\n",
    "fig = go.Figure(data=data, layout=layout)\n",
    "py.iplot(fig, filename='sorted_data')"
   ]
  },
  {
   "cell_type": "code",
   "execution_count": 83,
   "metadata": {},
   "outputs": [],
   "source": [
    "my_file=open('/home/neil/Documents/IIITH/sem1/APS/CS3000-Project/compare_dsu_rsorted.txt','r')\n",
    "read_data = my_file.readlines()\n",
    "#print(read_data)\n",
    "my_file.close()\n",
    "list1 = []\n",
    "list2 = []\n",
    "for lines in read_data:\n",
    "    l = lines\n",
    "    x,y = l.split(' ')\n",
    "    list1.append(float(x))\n",
    "    list2.append(float(y))\n",
    "    #print(x)\n",
    "    #print(y)\n",
    "dsu = go.Scatter(\n",
    "    x=list1,\n",
    "    y=list2,\n",
    "    name='dsu'\n",
    ")\n",
    "my_file=open('/home/neil/Documents/IIITH/sem1/APS/CS3000-Project/compare_veb_rsorted.txt','r')\n",
    "read_data = my_file.readlines()\n",
    "#print(read_data)\n",
    "my_file.close()\n",
    "list1 = []\n",
    "list2 = []\n",
    "for lines in read_data:\n",
    "    l = lines\n",
    "    x,y = l.split(' ')\n",
    "    list1.append(float(x))\n",
    "    list2.append(float(y))\n",
    "    #print(x)\n",
    "    #print(y)\n",
    "veb = go.Scatter(\n",
    "    x=list1,\n",
    "    y=list2,\n",
    "    name='veb'\n",
    ")\n",
    "my_file=open('/home/neil/Documents/IIITH/sem1/APS/CS3000-Project/compare_fib_rsorted.txt','r')\n",
    "read_data = my_file.readlines()\n",
    "#print(read_data)\n",
    "my_file.close()\n",
    "list1 = []\n",
    "list2 = []\n",
    "for lines in read_data:\n",
    "    l = lines\n",
    "    x,y = l.split(' ')\n",
    "    list1.append(float(x))\n",
    "    list2.append(float(y))\n",
    "    #print(x)\n",
    "    #print(y)\n",
    "fib = go.Scatter(\n",
    "    x=list1,\n",
    "    y=list2,\n",
    "    name='fib'\n",
    ")"
   ]
  },
  {
   "cell_type": "code",
   "execution_count": 84,
   "metadata": {},
   "outputs": [
    {
     "data": {
      "text/html": [
       "<iframe id=\"igraph\" scrolling=\"no\" style=\"border:none;\" seamless=\"seamless\" src=\"https://plot.ly/~syn145912/20.embed\" height=\"525px\" width=\"100%\"></iframe>"
      ],
      "text/plain": [
       "<plotly.tools.PlotlyDisplay object>"
      ]
     },
     "execution_count": 84,
     "metadata": {},
     "output_type": "execute_result"
    }
   ],
   "source": [
    "data = [dsu, veb, fib]\n",
    "layout = go.Layout(\n",
    "    title='Plot of number of edges vs time when edges are inserted with edge weights in reverse sorted order',\n",
    "    xaxis=dict(\n",
    "        title='Time in sec'\n",
    "    ),\n",
    "    yaxis=dict(\n",
    "        title='Edges'\n",
    "    )\n",
    ")\n",
    "fig = go.Figure(data=data, layout=layout)\n",
    "py.iplot(fig, filename='rsorted_data')"
   ]
  },
  {
   "cell_type": "code",
   "execution_count": null,
   "metadata": {},
   "outputs": [],
   "source": []
  },
  {
   "cell_type": "code",
   "execution_count": null,
   "metadata": {},
   "outputs": [],
   "source": []
  },
  {
   "cell_type": "code",
   "execution_count": null,
   "metadata": {},
   "outputs": [],
   "source": []
  }
 ],
 "metadata": {
  "kernelspec": {
   "display_name": "Python 3",
   "language": "python",
   "name": "python3"
  },
  "language_info": {
   "codemirror_mode": {
    "name": "ipython",
    "version": 3
   },
   "file_extension": ".py",
   "mimetype": "text/x-python",
   "name": "python",
   "nbconvert_exporter": "python",
   "pygments_lexer": "ipython3",
   "version": "3.6.6"
  }
 },
 "nbformat": 4,
 "nbformat_minor": 2
}
